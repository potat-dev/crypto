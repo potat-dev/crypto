{
 "cells": [
  {
   "cell_type": "markdown",
   "metadata": {},
   "source": [
    "# Check Hash"
   ]
  },
  {
   "cell_type": "code",
   "execution_count": 1,
   "metadata": {},
   "outputs": [
    {
     "name": "stdout",
     "output_type": "stream",
     "text": [
      "e3b0c44298fc1c149afbf4c8996fb92427ae41e4649b934ca495991b7852b855 - ''\n",
      "7f83b1657ff1fc53b92dc18148a1d65dfc2d4b1fa3d677284addd200126d9069 - 'Hello World!'\n",
      "d7a8fbb307d7809469ca9abcb0082e4f8d5651e46d3cdb762d02d0bf37c9e592 - 'The quick brown fox jumps over the lazy dog'\n",
      "e4c4d8f3bf76b692de791a173e05321150f7a345b46484fe427f6acc7ecc81be - 'The quick brown fox jumps over the lazy cog'\n"
     ]
    }
   ],
   "source": [
    "%%bash\n",
    "../build/lab04/sha256 \\\n",
    "    \"\" \\\n",
    "    \"Hello World!\" \\\n",
    "    \"The quick brown fox jumps over the lazy dog\" \\\n",
    "    \"The quick brown fox jumps over the lazy cog\" \\"
   ]
  },
  {
   "cell_type": "code",
   "execution_count": 2,
   "metadata": {},
   "outputs": [
    {
     "name": "stdout",
     "output_type": "stream",
     "text": [
      "e3b0c44298fc1c149afbf4c8996fb92427ae41e4649b934ca495991b7852b855 - ''\n",
      "7f83b1657ff1fc53b92dc18148a1d65dfc2d4b1fa3d677284addd200126d9069 - 'Hello World!'\n",
      "d7a8fbb307d7809469ca9abcb0082e4f8d5651e46d3cdb762d02d0bf37c9e592 - 'The quick brown fox jumps over the lazy dog'\n",
      "e4c4d8f3bf76b692de791a173e05321150f7a345b46484fe427f6acc7ecc81be - 'The quick brown fox jumps over the lazy cog'\n"
     ]
    }
   ],
   "source": [
    "from hashlib import sha256\n",
    "\n",
    "texts = [\n",
    "    '',\n",
    "    'Hello World!',\n",
    "    'The quick brown fox jumps over the lazy dog',\n",
    "    'The quick brown fox jumps over the lazy cog',\n",
    "]\n",
    "\n",
    "for text in texts:\n",
    "    print(sha256(text.encode('utf-8')).hexdigest(), f\"'{text}'\", sep=' - ')"
   ]
  },
  {
   "cell_type": "markdown",
   "metadata": {},
   "source": [
    "### Examples from Wikipedia\n",
    "\n",
    "```\n",
    "SHA-256(\"The quick brown fox jumps over the lazy dog\") \n",
    " = D7A8FBB3 07D78094 69CA9ABC B0082E4F 8D5651E4 6D3CDB76 2D02D0BF 37C9E592\n",
    "```\n",
    "\n",
    "```\n",
    "SHA-256(\"The quick brown fox jumps over the lazy cog\") \n",
    " = E4C4D8F3 BF76B692 DE791A17 3E053211 50F7A345 B46484FE 427F6ACC 7ECC81BE\n",
    "```"
   ]
  },
  {
   "cell_type": "markdown",
   "metadata": {},
   "source": [
    "# Get Stats"
   ]
  },
  {
   "cell_type": "code",
   "execution_count": 4,
   "metadata": {},
   "outputs": [
    {
     "name": "stdout",
     "output_type": "stream",
     "text": [
      "Testing collisions for first 4 bits\n",
      "Testing for password: 'hello'\n",
      "Average N: 16, Average S: 14\n",
      "Testing for password: 'world'\n",
      "Average N: 15, Average S: 13\n",
      "Testing for password: ''\n",
      "Average N: 16, Average S: 13\n",
      "\n",
      "Testing collisions for first 5 bits\n",
      "Testing for password: 'hello'\n",
      "Average N: 31, Average S: 28\n",
      "Testing for password: 'world'\n",
      "Average N: 31, Average S: 28\n",
      "Testing for password: ''\n",
      "Average N: 31, Average S: 27\n",
      "\n",
      "Testing collisions for first 6 bits\n",
      "Testing for password: 'hello'\n",
      "Average N: 61, Average S: 59\n",
      "Testing for password: 'world'\n",
      "Average N: 63, Average S: 57\n",
      "Testing for password: ''\n",
      "Average N: 63, Average S: 60\n",
      "\n",
      "Testing collisions for first 7 bits\n",
      "Testing for password: 'hello'\n",
      "Average N: 135, Average S: 116\n",
      "Testing for password: 'world'\n",
      "Average N: 126, Average S: 122\n",
      "Testing for password: ''\n",
      "Average N: 131, Average S: 116\n",
      "\n",
      "Testing collisions for first 8 bits\n",
      "Testing for password: 'hello'\n",
      "Average N: 270, Average S: 238\n",
      "Testing for password: 'world'\n",
      "Average N: 250, Average S: 245\n",
      "Testing for password: ''\n",
      "Average N: 264, Average S: 240\n",
      "\n",
      "Testing collisions for first 9 bits\n",
      "Testing for password: 'hello'\n",
      "Average N: 514, Average S: 490\n",
      "Testing for password: 'world'\n",
      "Average N: 453, Average S: 513\n",
      "Testing for password: ''\n",
      "Average N: 505, Average S: 490\n",
      "\n",
      "Testing collisions for first 10 bits\n",
      "Testing for password: 'hello'\n",
      "Average N: 1012, Average S: 962\n",
      "Testing for password: 'world'\n",
      "Average N: 822, Average S: 1012\n",
      "Testing for password: ''\n",
      "Average N: 940, Average S: 966\n",
      "\n",
      "Testing collisions for first 11 bits\n",
      "Testing for password: 'hello'\n",
      "Average N: 2159, Average S: 1956\n",
      "Testing for password: 'world'\n",
      "Average N: 2144, Average S: 2103\n",
      "Testing for password: ''\n",
      "Average N: 1983, Average S: 2000\n",
      "\n",
      "Testing collisions for first 12 bits\n",
      "Testing for password: 'hello'\n",
      "Average N: 4254, Average S: 3993\n",
      "Testing for password: 'world'\n",
      "Average N: 4110, Average S: 4036\n",
      "Testing for password: ''\n",
      "Average N: 4132, Average S: 3902\n",
      "\n"
     ]
    }
   ],
   "source": [
    "%%bash\n",
    "../build/lab04/sha256_test"
   ]
  },
  {
   "cell_type": "markdown",
   "metadata": {},
   "source": [
    "# Visualize Data"
   ]
  },
  {
   "cell_type": "code",
   "execution_count": null,
   "metadata": {},
   "outputs": [],
   "source": [
    "%pip install pandas altair"
   ]
  },
  {
   "cell_type": "code",
   "execution_count": 1,
   "metadata": {},
   "outputs": [],
   "source": [
    "import pandas as pd\n",
    "\n",
    "data = pd.read_json(\"result.json\")\n",
    "data = data.melt(id_vars=['pass', 'bits'], value_vars=['avgN', 'avgS'], var_name='type')"
   ]
  },
  {
   "cell_type": "code",
   "execution_count": 2,
   "metadata": {},
   "outputs": [
    {
     "data": {
      "text/html": [
       "\n",
       "<style>\n",
       "  #altair-viz-b33fe73c21034e9a98fa4b752c6eb042.vega-embed {\n",
       "    width: 100%;\n",
       "    display: flex;\n",
       "  }\n",
       "\n",
       "  #altair-viz-b33fe73c21034e9a98fa4b752c6eb042.vega-embed details,\n",
       "  #altair-viz-b33fe73c21034e9a98fa4b752c6eb042.vega-embed details summary {\n",
       "    position: relative;\n",
       "  }\n",
       "</style>\n",
       "<div id=\"altair-viz-b33fe73c21034e9a98fa4b752c6eb042\"></div>\n",
       "<script type=\"text/javascript\">\n",
       "  var VEGA_DEBUG = (typeof VEGA_DEBUG == \"undefined\") ? {} : VEGA_DEBUG;\n",
       "  (function(spec, embedOpt){\n",
       "    let outputDiv = document.currentScript.previousElementSibling;\n",
       "    if (outputDiv.id !== \"altair-viz-b33fe73c21034e9a98fa4b752c6eb042\") {\n",
       "      outputDiv = document.getElementById(\"altair-viz-b33fe73c21034e9a98fa4b752c6eb042\");\n",
       "    }\n",
       "    const paths = {\n",
       "      \"vega\": \"https://cdn.jsdelivr.net/npm/vega@5?noext\",\n",
       "      \"vega-lib\": \"https://cdn.jsdelivr.net/npm/vega-lib?noext\",\n",
       "      \"vega-lite\": \"https://cdn.jsdelivr.net/npm/vega-lite@5.16.3?noext\",\n",
       "      \"vega-embed\": \"https://cdn.jsdelivr.net/npm/vega-embed@6?noext\",\n",
       "    };\n",
       "\n",
       "    function maybeLoadScript(lib, version) {\n",
       "      var key = `${lib.replace(\"-\", \"\")}_version`;\n",
       "      return (VEGA_DEBUG[key] == version) ?\n",
       "        Promise.resolve(paths[lib]) :\n",
       "        new Promise(function(resolve, reject) {\n",
       "          var s = document.createElement('script');\n",
       "          document.getElementsByTagName(\"head\")[0].appendChild(s);\n",
       "          s.async = true;\n",
       "          s.onload = () => {\n",
       "            VEGA_DEBUG[key] = version;\n",
       "            return resolve(paths[lib]);\n",
       "          };\n",
       "          s.onerror = () => reject(`Error loading script: ${paths[lib]}`);\n",
       "          s.src = paths[lib];\n",
       "        });\n",
       "    }\n",
       "\n",
       "    function showError(err) {\n",
       "      outputDiv.innerHTML = `<div class=\"error\" style=\"color:red;\">${err}</div>`;\n",
       "      throw err;\n",
       "    }\n",
       "\n",
       "    function displayChart(vegaEmbed) {\n",
       "      vegaEmbed(outputDiv, spec, embedOpt)\n",
       "        .catch(err => showError(`Javascript Error: ${err.message}<br>This usually means there's a typo in your chart specification. See the javascript console for the full traceback.`));\n",
       "    }\n",
       "\n",
       "    if(typeof define === \"function\" && define.amd) {\n",
       "      requirejs.config({paths});\n",
       "      require([\"vega-embed\"], displayChart, err => showError(`Error loading script: ${err.message}`));\n",
       "    } else {\n",
       "      maybeLoadScript(\"vega\", \"5\")\n",
       "        .then(() => maybeLoadScript(\"vega-lite\", \"5.16.3\"))\n",
       "        .then(() => maybeLoadScript(\"vega-embed\", \"6\"))\n",
       "        .catch(showError)\n",
       "        .then(() => displayChart(vegaEmbed));\n",
       "    }\n",
       "  })({\"config\": {\"view\": {\"continuousWidth\": 300, \"continuousHeight\": 300}}, \"data\": {\"name\": \"data-08e435fded8ee7a75e955885a98178a8\"}, \"mark\": {\"type\": \"line\", \"point\": true}, \"encoding\": {\"color\": {\"field\": \"pass\", \"legend\": {}, \"title\": \"passwords\", \"type\": \"nominal\"}, \"column\": {\"field\": \"type\", \"title\": \"type\", \"type\": \"nominal\"}, \"tooltip\": [{\"field\": \"pass\", \"type\": \"nominal\"}, {\"field\": \"bits\", \"type\": \"quantitative\"}, {\"field\": \"value\", \"type\": \"quantitative\"}], \"x\": {\"field\": \"bits\", \"type\": \"nominal\"}, \"y\": {\"field\": \"value\", \"scale\": {\"type\": \"log\"}, \"type\": \"quantitative\"}}, \"width\": 300, \"$schema\": \"https://vega.github.io/schema/vega-lite/v5.16.3.json\", \"datasets\": {\"data-08e435fded8ee7a75e955885a98178a8\": [{\"pass\": \"hello\", \"bits\": 4, \"type\": \"avgN\", \"value\": 16}, {\"pass\": \"world\", \"bits\": 4, \"type\": \"avgN\", \"value\": 15}, {\"pass\": \"\", \"bits\": 4, \"type\": \"avgN\", \"value\": 16}, {\"pass\": \"hello\", \"bits\": 5, \"type\": \"avgN\", \"value\": 31}, {\"pass\": \"world\", \"bits\": 5, \"type\": \"avgN\", \"value\": 31}, {\"pass\": \"\", \"bits\": 5, \"type\": \"avgN\", \"value\": 31}, {\"pass\": \"hello\", \"bits\": 6, \"type\": \"avgN\", \"value\": 61}, {\"pass\": \"world\", \"bits\": 6, \"type\": \"avgN\", \"value\": 63}, {\"pass\": \"\", \"bits\": 6, \"type\": \"avgN\", \"value\": 63}, {\"pass\": \"hello\", \"bits\": 7, \"type\": \"avgN\", \"value\": 135}, {\"pass\": \"world\", \"bits\": 7, \"type\": \"avgN\", \"value\": 126}, {\"pass\": \"\", \"bits\": 7, \"type\": \"avgN\", \"value\": 131}, {\"pass\": \"hello\", \"bits\": 8, \"type\": \"avgN\", \"value\": 270}, {\"pass\": \"world\", \"bits\": 8, \"type\": \"avgN\", \"value\": 250}, {\"pass\": \"\", \"bits\": 8, \"type\": \"avgN\", \"value\": 264}, {\"pass\": \"hello\", \"bits\": 9, \"type\": \"avgN\", \"value\": 514}, {\"pass\": \"world\", \"bits\": 9, \"type\": \"avgN\", \"value\": 453}, {\"pass\": \"\", \"bits\": 9, \"type\": \"avgN\", \"value\": 505}, {\"pass\": \"hello\", \"bits\": 10, \"type\": \"avgN\", \"value\": 1012}, {\"pass\": \"world\", \"bits\": 10, \"type\": \"avgN\", \"value\": 822}, {\"pass\": \"\", \"bits\": 10, \"type\": \"avgN\", \"value\": 940}, {\"pass\": \"hello\", \"bits\": 11, \"type\": \"avgN\", \"value\": 2159}, {\"pass\": \"world\", \"bits\": 11, \"type\": \"avgN\", \"value\": 2144}, {\"pass\": \"\", \"bits\": 11, \"type\": \"avgN\", \"value\": 1983}, {\"pass\": \"hello\", \"bits\": 12, \"type\": \"avgN\", \"value\": 4254}, {\"pass\": \"world\", \"bits\": 12, \"type\": \"avgN\", \"value\": 4110}, {\"pass\": \"\", \"bits\": 12, \"type\": \"avgN\", \"value\": 4132}, {\"pass\": \"hello\", \"bits\": 13, \"type\": \"avgN\", \"value\": 7667}, {\"pass\": \"world\", \"bits\": 13, \"type\": \"avgN\", \"value\": 8795}, {\"pass\": \"\", \"bits\": 13, \"type\": \"avgN\", \"value\": 8418}, {\"pass\": \"hello\", \"bits\": 14, \"type\": \"avgN\", \"value\": 15519}, {\"pass\": \"world\", \"bits\": 14, \"type\": \"avgN\", \"value\": 17570}, {\"pass\": \"\", \"bits\": 14, \"type\": \"avgN\", \"value\": 17453}, {\"pass\": \"hello\", \"bits\": 15, \"type\": \"avgN\", \"value\": 36539}, {\"pass\": \"world\", \"bits\": 15, \"type\": \"avgN\", \"value\": 35494}, {\"pass\": \"\", \"bits\": 15, \"type\": \"avgN\", \"value\": 35022}, {\"pass\": \"hello\", \"bits\": 16, \"type\": \"avgN\", \"value\": 72165}, {\"pass\": \"world\", \"bits\": 16, \"type\": \"avgN\", \"value\": 68061}, {\"pass\": \"\", \"bits\": 16, \"type\": \"avgN\", \"value\": 71332}, {\"pass\": \"hello\", \"bits\": 17, \"type\": \"avgN\", \"value\": 140222}, {\"pass\": \"world\", \"bits\": 17, \"type\": \"avgN\", \"value\": 141898}, {\"pass\": \"\", \"bits\": 17, \"type\": \"avgN\", \"value\": 137603}, {\"pass\": \"hello\", \"bits\": 18, \"type\": \"avgN\", \"value\": 282597}, {\"pass\": \"world\", \"bits\": 18, \"type\": \"avgN\", \"value\": 283325}, {\"pass\": \"\", \"bits\": 18, \"type\": \"avgN\", \"value\": 278193}, {\"pass\": \"hello\", \"bits\": 19, \"type\": \"avgN\", \"value\": 551327}, {\"pass\": \"world\", \"bits\": 19, \"type\": \"avgN\", \"value\": 557996}, {\"pass\": \"\", \"bits\": 19, \"type\": \"avgN\", \"value\": 553422}, {\"pass\": \"hello\", \"bits\": 20, \"type\": \"avgN\", \"value\": 1076088}, {\"pass\": \"world\", \"bits\": 20, \"type\": \"avgN\", \"value\": 1125081}, {\"pass\": \"\", \"bits\": 20, \"type\": \"avgN\", \"value\": 1120800}, {\"pass\": \"hello\", \"bits\": 4, \"type\": \"avgS\", \"value\": 14}, {\"pass\": \"world\", \"bits\": 4, \"type\": \"avgS\", \"value\": 13}, {\"pass\": \"\", \"bits\": 4, \"type\": \"avgS\", \"value\": 13}, {\"pass\": \"hello\", \"bits\": 5, \"type\": \"avgS\", \"value\": 28}, {\"pass\": \"world\", \"bits\": 5, \"type\": \"avgS\", \"value\": 28}, {\"pass\": \"\", \"bits\": 5, \"type\": \"avgS\", \"value\": 27}, {\"pass\": \"hello\", \"bits\": 6, \"type\": \"avgS\", \"value\": 59}, {\"pass\": \"world\", \"bits\": 6, \"type\": \"avgS\", \"value\": 57}, {\"pass\": \"\", \"bits\": 6, \"type\": \"avgS\", \"value\": 60}, {\"pass\": \"hello\", \"bits\": 7, \"type\": \"avgS\", \"value\": 116}, {\"pass\": \"world\", \"bits\": 7, \"type\": \"avgS\", \"value\": 122}, {\"pass\": \"\", \"bits\": 7, \"type\": \"avgS\", \"value\": 116}, {\"pass\": \"hello\", \"bits\": 8, \"type\": \"avgS\", \"value\": 238}, {\"pass\": \"world\", \"bits\": 8, \"type\": \"avgS\", \"value\": 245}, {\"pass\": \"\", \"bits\": 8, \"type\": \"avgS\", \"value\": 240}, {\"pass\": \"hello\", \"bits\": 9, \"type\": \"avgS\", \"value\": 490}, {\"pass\": \"world\", \"bits\": 9, \"type\": \"avgS\", \"value\": 513}, {\"pass\": \"\", \"bits\": 9, \"type\": \"avgS\", \"value\": 490}, {\"pass\": \"hello\", \"bits\": 10, \"type\": \"avgS\", \"value\": 962}, {\"pass\": \"world\", \"bits\": 10, \"type\": \"avgS\", \"value\": 1012}, {\"pass\": \"\", \"bits\": 10, \"type\": \"avgS\", \"value\": 966}, {\"pass\": \"hello\", \"bits\": 11, \"type\": \"avgS\", \"value\": 1956}, {\"pass\": \"world\", \"bits\": 11, \"type\": \"avgS\", \"value\": 2103}, {\"pass\": \"\", \"bits\": 11, \"type\": \"avgS\", \"value\": 2000}, {\"pass\": \"hello\", \"bits\": 12, \"type\": \"avgS\", \"value\": 3993}, {\"pass\": \"world\", \"bits\": 12, \"type\": \"avgS\", \"value\": 4036}, {\"pass\": \"\", \"bits\": 12, \"type\": \"avgS\", \"value\": 3902}, {\"pass\": \"hello\", \"bits\": 13, \"type\": \"avgS\", \"value\": 8196}, {\"pass\": \"world\", \"bits\": 13, \"type\": \"avgS\", \"value\": 7730}, {\"pass\": \"\", \"bits\": 13, \"type\": \"avgS\", \"value\": 7787}, {\"pass\": \"hello\", \"bits\": 14, \"type\": \"avgS\", \"value\": 16434}, {\"pass\": \"world\", \"bits\": 14, \"type\": \"avgS\", \"value\": 16017}, {\"pass\": \"\", \"bits\": 14, \"type\": \"avgS\", \"value\": 15786}, {\"pass\": \"hello\", \"bits\": 15, \"type\": \"avgS\", \"value\": 29906}, {\"pass\": \"world\", \"bits\": 15, \"type\": \"avgS\", \"value\": 29493}, {\"pass\": \"\", \"bits\": 15, \"type\": \"avgS\", \"value\": 30472}, {\"pass\": \"hello\", \"bits\": 16, \"type\": \"avgS\", \"value\": 61347}, {\"pass\": \"world\", \"bits\": 16, \"type\": \"avgS\", \"value\": 59183}, {\"pass\": \"\", \"bits\": 16, \"type\": \"avgS\", \"value\": 66103}, {\"pass\": \"hello\", \"bits\": 17, \"type\": \"avgS\", \"value\": 115967}, {\"pass\": \"world\", \"bits\": 17, \"type\": \"avgS\", \"value\": 117627}, {\"pass\": \"\", \"bits\": 17, \"type\": \"avgS\", \"value\": 120240}, {\"pass\": \"hello\", \"bits\": 18, \"type\": \"avgS\", \"value\": 235621}, {\"pass\": \"world\", \"bits\": 18, \"type\": \"avgS\", \"value\": 246525}, {\"pass\": \"\", \"bits\": 18, \"type\": \"avgS\", \"value\": 241074}, {\"pass\": \"hello\", \"bits\": 19, \"type\": \"avgS\", \"value\": 485478}, {\"pass\": \"world\", \"bits\": 19, \"type\": \"avgS\", \"value\": 458696}, {\"pass\": \"\", \"bits\": 19, \"type\": \"avgS\", \"value\": 462355}, {\"pass\": \"hello\", \"bits\": 20, \"type\": \"avgS\", \"value\": 935815}, {\"pass\": \"world\", \"bits\": 20, \"type\": \"avgS\", \"value\": 941920}, {\"pass\": \"\", \"bits\": 20, \"type\": \"avgS\", \"value\": 986629}]}}, {\"mode\": \"vega-lite\"});\n",
       "</script>"
      ],
      "text/plain": [
       "alt.Chart(...)"
      ]
     },
     "execution_count": 2,
     "metadata": {},
     "output_type": "execute_result"
    }
   ],
   "source": [
    "import altair as alt\n",
    "\n",
    "alt.Chart(data, width=300).mark_line(point=True).encode(\n",
    "    alt.X(\"bits:N\"),\n",
    "    alt.Y(\"value:Q\").scale(type=\"log\"),\n",
    "    alt.Color(\"pass:N\").title(\"passwords\").legend(),\n",
    "    alt.Column(\"type:N\").title(\"type\"),\n",
    "    tooltip=[\"pass\", \"bits\", \"value\"],\n",
    ")"
   ]
  }
 ],
 "metadata": {
  "kernelspec": {
   "display_name": "Python 3",
   "language": "python",
   "name": "python3"
  },
  "language_info": {
   "codemirror_mode": {
    "name": "ipython",
    "version": 3
   },
   "file_extension": ".py",
   "mimetype": "text/x-python",
   "name": "python",
   "nbconvert_exporter": "python",
   "pygments_lexer": "ipython3",
   "version": "3.9.2"
  }
 },
 "nbformat": 4,
 "nbformat_minor": 2
}
