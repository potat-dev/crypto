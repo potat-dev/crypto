{
 "cells": [
  {
   "cell_type": "code",
   "execution_count": 4,
   "metadata": {},
   "outputs": [
    {
     "name": "stdout",
     "output_type": "stream",
     "text": [
      "7f83b1657ff1fc53b92dc18148a1d65dfc2d4b1fa3d677284addd200126d9069\n",
      "d7a8fbb307d7809469ca9abcb0082e4f8d5651e46d3cdb762d02d0bf37c9e592\n",
      "e4c4d8f3bf76b692de791a173e05321150f7a345b46484fe427f6acc7ecc81be\n",
      "e3b0c44298fc1c149afbf4c8996fb92427ae41e4649b934ca495991b7852b855\n"
     ]
    }
   ],
   "source": [
    "from hashlib import sha256\n",
    "\n",
    "texts = [\n",
    "    'Hello World!',\n",
    "    'The quick brown fox jumps over the lazy dog',\n",
    "    'The quick brown fox jumps over the lazy cog',\n",
    "    '',\n",
    "]\n",
    "\n",
    "for text in texts:\n",
    "    print(sha256(text.encode('utf-8')).hexdigest())"
   ]
  },
  {
   "cell_type": "markdown",
   "metadata": {},
   "source": [
    "```\n",
    "SHA-256(\"The quick brown fox jumps over the lazy dog\") \n",
    " = D7A8FBB3 07D78094 69CA9ABC B0082E4F 8D5651E4 6D3CDB76 2D02D0BF 37C9E592\n",
    "\n",
    "SHA-256(\"The quick brown fox jumps over the lazy cog\") \n",
    " = E4C4D8F3 BF76B692 DE791A17 3E053211 50F7A345 B46484FE 427F6ACC 7ECC81BE\n",
    "```"
   ]
  },
  {
   "cell_type": "code",
   "execution_count": 17,
   "metadata": {},
   "outputs": [
    {
     "name": "stdout",
     "output_type": "stream",
     "text": [
      "d7a8fbb307d7809469ca9abcb0082e4f8d5651e46d3cdb762d02d0bf37c9e592\n",
      "1101011110101000111110111011001100000111110101111000000010010100011010011100101010011010101111001011000000001000001011100100111110001101010101100101000111100100011011010011110011011011011101100010110100000010110100001011111100110111110010011110010110010010\n",
      "1110010110010010\n"
     ]
    }
   ],
   "source": [
    "bytes_data = sha256(\"The quick brown fox jumps over the lazy dog\".encode(\"utf-8\"))\n",
    "print(bytes_data.hexdigest())\n",
    "bytes_data = bytes_data.digest()\n",
    "int_data = int.from_bytes(bytes_data, byteorder=\"big\")\n",
    "\n",
    "# Convert integer to binary\n",
    "binary_data = bin(int_data)[2:]\n",
    "\n",
    "print(binary_data)\n",
    "\n",
    "int_data &= (2**16 - 1)\n",
    "\n",
    "binary_data = bin(int_data)[2:]\n",
    "\n",
    "print(binary_data)"
   ]
  },
  {
   "cell_type": "code",
   "execution_count": 15,
   "metadata": {},
   "outputs": [
    {
     "data": {
      "text/plain": [
       "16"
      ]
     },
     "execution_count": 15,
     "metadata": {},
     "output_type": "execute_result"
    }
   ],
   "source": [
    "len(\"1000000110110011\")"
   ]
  }
 ],
 "metadata": {
  "kernelspec": {
   "display_name": "Python 3",
   "language": "python",
   "name": "python3"
  },
  "language_info": {
   "codemirror_mode": {
    "name": "ipython",
    "version": 3
   },
   "file_extension": ".py",
   "mimetype": "text/x-python",
   "name": "python",
   "nbconvert_exporter": "python",
   "pygments_lexer": "ipython3",
   "version": "3.11.0"
  }
 },
 "nbformat": 4,
 "nbformat_minor": 2
}
